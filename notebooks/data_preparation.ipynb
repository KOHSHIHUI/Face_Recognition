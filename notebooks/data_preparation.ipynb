{
 "cells": [
  {
   "cell_type": "code",
   "execution_count": 9,
   "metadata": {},
   "outputs": [],
   "source": [
    "import os\n",
    "import random"
   ]
  },
  {
   "cell_type": "code",
   "execution_count": 10,
   "metadata": {},
   "outputs": [],
   "source": [
    "dataset_root = \"../dataset/fsktm_cropped_dataset/\""
   ]
  },
  {
   "cell_type": "code",
   "execution_count": 11,
   "metadata": {},
   "outputs": [],
   "source": [
    "recognition = {}\n",
    "\n",
    "for root, _, files in os.walk(dataset_root):\n",
    "    \n",
    "    if (len(files) != 0):\n",
    "        recognition[root.split(\"/\")[-1]] = [os.path.realpath(os.path.join(root, file)) for file in files]\n"
   ]
  },
  {
   "cell_type": "code",
   "execution_count": 12,
   "metadata": {},
   "outputs": [
    {
     "name": "stdout",
     "output_type": "stream",
     "text": [
      "Number of persons: 30\n"
     ]
    }
   ],
   "source": [
    "print(f\"Number of persons: {len(recognition.keys())}\")"
   ]
  },
  {
   "cell_type": "code",
   "execution_count": 13,
   "metadata": {},
   "outputs": [
    {
     "name": "stdout",
     "output_type": "stream",
     "text": [
      "Minimum image of from each person: 21\n",
      "Maximum image of from each person: 64\n"
     ]
    }
   ],
   "source": [
    "print(f\"Minimum image of from each person: {min(map(len, recognition.values()))}\")\n",
    "print(f\"Maximum image of from each person: {max(map(len, recognition.values()))}\")"
   ]
  },
  {
   "cell_type": "code",
   "execution_count": 14,
   "metadata": {},
   "outputs": [],
   "source": [
    "training_size_of_each_person = 20"
   ]
  },
  {
   "cell_type": "code",
   "execution_count": 15,
   "metadata": {},
   "outputs": [],
   "source": [
    "# Random shuffle the list\n",
    "for person in recognition.keys():\n",
    "    random.shuffle(recognition[person])"
   ]
  },
  {
   "cell_type": "code",
   "execution_count": 16,
   "metadata": {},
   "outputs": [],
   "source": [
    "export_path = \"../data/fsktm/\"\n",
    "\n",
    "if not os.path.isdir(export_path):\n",
    "    os.makedirs(export_path)\n",
    "    \n",
    "train = {}\n",
    "test = {}\n",
    "label = {v:k for k, v in enumerate(recognition.keys())}\n",
    "\n",
    "for person in recognition.keys():\n",
    "    train.update({k : label[person] for k in recognition[person][: training_size_of_each_person]})\n",
    "    test.update({k : label[person] for k in recognition[person][training_size_of_each_person :]})\n",
    "    \n",
    "with open(os.path.join(export_path, 'train.csv'), 'w') as file:\n",
    "    data = list(train.items())\n",
    "    random.shuffle(data)\n",
    "    \n",
    "    for path, cls in data:\n",
    "        file.write(f\"{path}, {cls}\\n\")\n",
    "\n",
    "with open(os.path.join(export_path, 'test.csv'), 'w') as file:\n",
    "    data = list(test.items())\n",
    "    random.shuffle(data)\n",
    "    \n",
    "    for path, cls in data:\n",
    "        file.write(f\"{path}, {cls}\\n\")\n",
    "         \n",
    "with open(os.path.join(export_path, 'label.txt'), 'w') as file:\n",
    "    for l in label:\n",
    "        file.write(f\"{l}\\n\")"
   ]
  },
  {
   "cell_type": "code",
   "execution_count": null,
   "metadata": {},
   "outputs": [],
   "source": []
  }
 ],
 "metadata": {
  "kernelspec": {
   "display_name": "fyp",
   "language": "python",
   "name": "python3"
  },
  "language_info": {
   "codemirror_mode": {
    "name": "ipython",
    "version": 3
   },
   "file_extension": ".py",
   "mimetype": "text/x-python",
   "name": "python",
   "nbconvert_exporter": "python",
   "pygments_lexer": "ipython3",
   "version": "3.10.8 | packaged by conda-forge | (main, Nov 24 2022, 14:07:00) [MSC v.1916 64 bit (AMD64)]"
  },
  "orig_nbformat": 4,
  "vscode": {
   "interpreter": {
    "hash": "9e5ffe93bef6e3fc7cf9d32ab1285e6993548e273e1150fb75bdc86d77f7c8eb"
   }
  }
 },
 "nbformat": 4,
 "nbformat_minor": 2
}
