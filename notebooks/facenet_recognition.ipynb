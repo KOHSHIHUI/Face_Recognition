{
 "cells": [
  {
   "cell_type": "code",
   "execution_count": null,
   "metadata": {},
   "outputs": [],
   "source": [
    "import matplotlib.image as mpimg \n",
    "import cv2\n",
    "import numpy as np\n",
    "import pandas as pd\n",
    "import os\n",
    "from keras_facenet import FaceNet"
   ]
  },
  {
   "cell_type": "code",
   "execution_count": null,
   "metadata": {},
   "outputs": [],
   "source": [
    "embedder = FaceNet()"
   ]
  },
  {
   "cell_type": "code",
   "execution_count": null,
   "metadata": {},
   "outputs": [],
   "source": [
    "dataset = \"../data/105_persons\""
   ]
  },
  {
   "cell_type": "code",
   "execution_count": null,
   "metadata": {},
   "outputs": [],
   "source": [
    "def get_dataset(dtype=\"train\"):\n",
    "    images = []\n",
    "    targets = []\n",
    "    with open(os.path.join(dataset, dtype + '.csv'), 'r') as file:\n",
    "        for line in file.readlines():\n",
    "            path, cls = map(lambda x: x.strip(), line.split(','))\n",
    "            \n",
    "            images.append(cv2.resize(mpimg.imread(path), (160, 160)))\n",
    "            targets.append(int(cls))\n",
    "    \n",
    "    # Convert to numpy\n",
    "    X = np.array(images)\n",
    "    y = np.array(targets)\n",
    "    \n",
    "    return X, y\n",
    "\n",
    "def get_label():\n",
    "    labels = {}\n",
    "    \n",
    "    with open(os.path.join(dataset, 'label.txt')) as file:\n",
    "        for i, person in enumerate(file.readlines()):\n",
    "            labels[int(i)] = person.strip()\n",
    "            \n",
    "    return labels"
   ]
  },
  {
   "cell_type": "code",
   "execution_count": null,
   "metadata": {},
   "outputs": [],
   "source": [
    "X_train, y_train = get_dataset(dtype=\"train\")\n",
    "X_test, y_test = get_dataset(dtype=\"test\")\n",
    "labels = get_label()"
   ]
  },
  {
   "cell_type": "code",
   "execution_count": null,
   "metadata": {},
   "outputs": [],
   "source": [
    "print('X_Train data shape=', X_train.shape)\n",
    "print('X_Test data shape=', X_test.shape)\n",
    "print('y_Train data shape=', y_train.shape)\n",
    "print('y_Test data shape=', y_test.shape)"
   ]
  },
  {
   "cell_type": "code",
   "execution_count": null,
   "metadata": {},
   "outputs": [],
   "source": [
    "# Use the pretrained facenet for face embedding\n",
    "X_train = embedder.embeddings(X_train)\n",
    "X_test = embedder.embeddings(X_test)\n",
    "print('Train embed shape=', X_train.shape)\n",
    "print('Test embed shape=', X_test.shape)"
   ]
  },
  {
   "cell_type": "code",
   "execution_count": null,
   "metadata": {},
   "outputs": [],
   "source": [
    "from sklearn.linear_model import LogisticRegression"
   ]
  },
  {
   "cell_type": "code",
   "execution_count": null,
   "metadata": {},
   "outputs": [],
   "source": [
    "model = LogisticRegression()"
   ]
  },
  {
   "cell_type": "code",
   "execution_count": null,
   "metadata": {},
   "outputs": [],
   "source": [
    "model.fit(X_train,y_train)"
   ]
  },
  {
   "cell_type": "code",
   "execution_count": null,
   "metadata": {},
   "outputs": [],
   "source": [
    "model.predict(X_test)"
   ]
  },
  {
   "cell_type": "code",
   "execution_count": null,
   "metadata": {},
   "outputs": [],
   "source": [
    "y_test"
   ]
  },
  {
   "cell_type": "code",
   "execution_count": null,
   "metadata": {},
   "outputs": [],
   "source": [
    "model.score(X_test,y_test)"
   ]
  },
  {
   "cell_type": "code",
   "execution_count": null,
   "metadata": {},
   "outputs": [],
   "source": [
    "def predict(file, with_label=True):\n",
    "  x = mpimg.imread(file)\n",
    "  x = cv2.resize(x, (160, 160))\n",
    "  x = x.reshape(1, 160, 160, 3)\n",
    "  x = embedder.embeddings(x)\n",
    "  if(max(model.predict_proba(x)[0]) < 0.25):         #0.25 is the threshold\n",
    "    print(\"Face not found !\")\n",
    "    return\n",
    "  else:\n",
    "    y_s = model.predict(x)\n",
    "    return [labels[y] for y in y_s] if with_label else y_s"
   ]
  },
  {
   "cell_type": "code",
   "execution_count": 1,
   "metadata": {},
   "outputs": [
    {
     "ename": "NameError",
     "evalue": "name 'predict' is not defined",
     "output_type": "error",
     "traceback": [
      "\u001b[1;31m---------------------------------------------------------------------------\u001b[0m",
      "\u001b[1;31mNameError\u001b[0m                                 Traceback (most recent call last)",
      "Cell \u001b[1;32mIn[1], line 1\u001b[0m\n\u001b[1;32m----> 1\u001b[0m predict(os\u001b[39m.\u001b[39mpath\u001b[39m.\u001b[39mjoin(\u001b[39m\"\u001b[39m\u001b[39m./105_classes_pins_dataset/ELIZABETH_OLSEN/elizabeth_olsen0_1112.jpg\u001b[39m\u001b[39m\"\u001b[39m), with_label\u001b[39m=\u001b[39m\u001b[39mTrue\u001b[39;00m)\n",
      "\u001b[1;31mNameError\u001b[0m: name 'predict' is not defined"
     ]
    }
   ],
   "source": [
    "predict(os.path.join(\"./105_classes_pins_dataset/ELIZABETH_OLSEN/elizabeth_olsen0_1112.jpg\"), with_label=True)"
   ]
  },
  {
   "cell_type": "code",
   "execution_count": null,
   "metadata": {},
   "outputs": [],
   "source": []
  }
 ],
 "metadata": {
  "kernelspec": {
   "display_name": "fyp_new",
   "language": "python",
   "name": "python3"
  },
  "language_info": {
   "codemirror_mode": {
    "name": "ipython",
    "version": 3
   },
   "file_extension": ".py",
   "mimetype": "text/x-python",
   "name": "python",
   "nbconvert_exporter": "python",
   "pygments_lexer": "ipython3",
   "version": "3.9.16 (main, Jan 11 2023, 16:16:36) [MSC v.1916 64 bit (AMD64)]"
  },
  "orig_nbformat": 4,
  "vscode": {
   "interpreter": {
    "hash": "3b59b1f06cc8179169c261b960340e09d0d0e071fc9aa7ef15592f3417ec2e72"
   }
  }
 },
 "nbformat": 4,
 "nbformat_minor": 2
}
